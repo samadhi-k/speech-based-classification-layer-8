{
 "cells": [
  {
   "cell_type": "markdown",
   "metadata": {
    "id": "Ssy8eL9GHxPV"
   },
   "source": [
    "### Mount drive"
   ]
  },
  {
   "cell_type": "code",
   "execution_count": null,
   "metadata": {
    "id": "_Qzx28fUHXP8"
   },
   "outputs": [],
   "source": [
    "from google.colab import drive\n",
    "drive.mount('/content/drive')\n"
   ]
  },
  {
   "cell_type": "markdown",
   "metadata": {
    "id": "LuKB-tWBHSjO"
   },
   "source": [
    "### Import packages"
   ]
  },
  {
   "cell_type": "code",
   "execution_count": null,
   "metadata": {
    "id": "Gukai7h_HSjS"
   },
   "outputs": [],
   "source": [
    "import numpy as np\n",
    "import pandas as pd\n",
    "import matplotlib.pyplot as plt\n",
    "import tensorflow as tf"
   ]
  },
  {
   "cell_type": "markdown",
   "metadata": {
    "id": "sZz0cPLpHSjU"
   },
   "source": [
    "### Import data"
   ]
  },
  {
   "cell_type": "code",
   "execution_count": null,
   "metadata": {
    "id": "csLLzqRTHSjU"
   },
   "outputs": [],
   "source": [
    "train = pd.read_csv('drive/MyDrive/DataSets/Layer8/train.csv');\n",
    "valid = pd.read_csv('drive/MyDrive/DataSets/Layer8/valid.csv');"
   ]
  },
  {
   "cell_type": "markdown",
   "metadata": {
    "id": "lkWH3ofXHSjU"
   },
   "source": [
    "### Describe data"
   ]
  },
  {
   "cell_type": "code",
   "execution_count": null,
   "metadata": {
    "id": "B7OPAU4VHSjV"
   },
   "outputs": [],
   "source": [
    "train.describe()\n"
   ]
  },
  {
   "cell_type": "code",
   "execution_count": null,
   "metadata": {
    "id": "QtTrsFawHSjW"
   },
   "outputs": [],
   "source": [
    "train.shape"
   ]
  },
  {
   "cell_type": "markdown",
   "metadata": {
    "id": "p92LiV4aHSjX"
   },
   "source": [
    "Train dataset has 28520 datapoints and 768 fetures"
   ]
  },
  {
   "cell_type": "code",
   "execution_count": null,
   "metadata": {
    "id": "g1KkiClEHSjX"
   },
   "outputs": [],
   "source": [
    "valid.shape"
   ]
  },
  {
   "cell_type": "markdown",
   "metadata": {
    "id": "_evpZJqPHSjY"
   },
   "source": [
    "Valid dataset has 750 datapoints"
   ]
  },
  {
   "cell_type": "code",
   "execution_count": null,
   "metadata": {
    "id": "vgrv4PsuHSjY"
   },
   "outputs": [],
   "source": [
    "train"
   ]
  },
  {
   "cell_type": "markdown",
   "metadata": {
    "id": "cDK1ClcEHSjY"
   },
   "source": [
    "### Handle missing values"
   ]
  },
  {
   "cell_type": "code",
   "execution_count": null,
   "metadata": {
    "id": "JbjqrtenHSjY"
   },
   "outputs": [],
   "source": [
    "columns = train.columns\n",
    "labels = columns[-4:]\n",
    "features = columns[:-4]"
   ]
  },
  {
   "cell_type": "code",
   "execution_count": null,
   "metadata": {
    "id": "IKUVcCTlHSjZ"
   },
   "outputs": [],
   "source": [
    "train.isnull().sum()"
   ]
  },
  {
   "cell_type": "code",
   "execution_count": null,
   "metadata": {
    "id": "8QAo0NplHSjZ"
   },
   "outputs": [],
   "source": [
    "valid.isnull().sum()"
   ]
  },
  {
   "cell_type": "code",
   "execution_count": null,
   "metadata": {
    "id": "4agvh8CkHSjZ"
   },
   "outputs": [],
   "source": [
    "from sklearn.impute import SimpleImputer\n",
    "\n",
    "# missing values are imputed with the median value\n",
    "imp = SimpleImputer(missing_values=np.nan, strategy='median')\n",
    "imp.fit(train[labels])\n",
    "imp.fit(valid[labels])\n",
    "train[labels] = imp.transform(train[labels])\n",
    "valid[labels] =imp.transform(valid[labels])"
   ]
  },
  {
   "cell_type": "code",
   "execution_count": null,
   "metadata": {
    "id": "vsx1IEYVHSjZ"
   },
   "outputs": [],
   "source": [
    "train.isnull().sum()"
   ]
  },
  {
   "cell_type": "code",
   "execution_count": null,
   "metadata": {
    "id": "Hhr5mAZzHSja"
   },
   "outputs": [],
   "source": [
    "valid.isnull().sum()"
   ]
  },
  {
   "cell_type": "code",
   "execution_count": null,
   "metadata": {
    "id": "1oYrmwhMHSja"
   },
   "outputs": [],
   "source": [
    "X_train = train[features]\n",
    "Y_train = train[labels]\n",
    "X_valid = valid[features]\n",
    "Y_valid = valid[labels]"
   ]
  },
  {
   "cell_type": "markdown",
   "metadata": {
    "id": "baBDfIqdHSja"
   },
   "source": [
    "### Varience based feature selection"
   ]
  },
  {
   "cell_type": "code",
   "execution_count": null,
   "metadata": {
    "id": "enNBl6hQHSja"
   },
   "outputs": [],
   "source": [
    "# scatter plot varience of features\n",
    "plt.figure(figsize=(20,10))\n",
    "plt.scatter(X_train.columns, X_train.var())"
   ]
  },
  {
   "cell_type": "markdown",
   "metadata": {
    "id": "u7O38wLPHSja"
   },
   "source": [
    "Most of the feature varience is close to 0. Removing most of them will negatively imapact on the accuracy of the model"
   ]
  },
  {
   "cell_type": "code",
   "execution_count": null,
   "metadata": {
    "id": "MQ3NJsWdHSjb"
   },
   "outputs": [],
   "source": [
    "from sklearn.feature_selection import VarianceThreshold\n",
    "threshold = VarianceThreshold(0.0001)\n",
    "X_train_array = threshold.fit_transform(X_train)\n",
    "X_train = pd.DataFrame(X_train_array, columns=X_train.columns)\n",
    "X_train_array.shape, X_train.shape\n"
   ]
  },
  {
   "cell_type": "markdown",
   "metadata": {
    "id": "xYy6aU-6HSjb"
   },
   "source": [
    "### Correlation based feature selection"
   ]
  },
  {
   "cell_type": "code",
   "execution_count": null,
   "metadata": {
    "id": "7T4U_wqsHSjb"
   },
   "outputs": [],
   "source": [
    "import seaborn as sns"
   ]
  },
  {
   "cell_type": "code",
   "execution_count": null,
   "metadata": {
    "id": "kypybXy7J02m"
   },
   "outputs": [],
   "source": [
    "def correlation(dataset, threshold):\n",
    "    col_corr = set()  # Set of all the names of correlated columns\n",
    "    corr_matrix = dataset.corr()\n",
    "    for i in range(len(corr_matrix.columns)):\n",
    "        for j in range(i):\n",
    "            if abs(corr_matrix.iloc[i, j]) > threshold: # we are interested in absolute coeff value\n",
    "                colname = corr_matrix.columns[i]  # getting the name of column\n",
    "                col_corr.add(colname)\n",
    "    return col_corr\n",
    "\n",
    "corr_features = correlation(X_train, 0.9)\n",
    "len(set(corr_features))"
   ]
  },
  {
   "cell_type": "code",
   "execution_count": null,
   "metadata": {
    "id": "82p5nA3xNFE1"
   },
   "outputs": [],
   "source": [
    "X_train = X_train.drop(corr_features, axis=1)\n",
    "X_valid = X_valid.drop(corr_features, axis=1)"
   ]
  },
  {
   "cell_type": "markdown",
   "metadata": {
    "id": "HynqARTwP3Pr"
   },
   "source": [
    "70 correlated features were dropped."
   ]
  },
  {
   "cell_type": "markdown",
   "metadata": {
    "id": "6NGDUocKGWHd"
   },
   "source": [
    "### Label 1 : Speaker ID"
   ]
  },
  {
   "cell_type": "code",
   "execution_count": null,
   "metadata": {
    "id": "0ruJ1JigGVyd"
   },
   "outputs": [],
   "source": [
    "Y_train_1 = Y_train['label_1']\n",
    "Y_valid_1 = Y_valid['label_1']"
   ]
  },
  {
   "cell_type": "code",
   "execution_count": null,
   "metadata": {
    "id": "kIdZllxrkXOa"
   },
   "outputs": [],
   "source": [
    "print(Y_train['label_1'].sort_values())"
   ]
  },
  {
   "cell_type": "code",
   "execution_count": null,
   "metadata": {
    "id": "-JFrXwIyNOkC"
   },
   "outputs": [],
   "source": [
    "Y_train_1.head()\n",
    "plt.figure(figsize=(20,10))\n",
    "label_1 = Y_train['label_1']\n",
    "label_1.value_counts().plot(kind='bar')"
   ]
  },
  {
   "cell_type": "code",
   "execution_count": null,
   "metadata": {
    "id": "-pAAmUGikG3H"
   },
   "outputs": [],
   "source": [
    "from sklearn.feature_selection import mutual_info_classif\n",
    "\n",
    "mutual_info = mutual_info_classif(X_train, Y_train_1)\n",
    "mutual_info = pd.Series(mutual_info)\n",
    "mutual_info.index = X_train.columns\n",
    "mutual_info.sort_values(ascending=False).plot.bar(figsize=(20, 8))"
   ]
  },
  {
   "cell_type": "markdown",
   "metadata": {
    "id": "h3h7JPbaePpV"
   },
   "source": [
    "removing features with less than 0.005 mutual information"
   ]
  },
  {
   "cell_type": "code",
   "execution_count": null,
   "metadata": {
    "id": "tFiKI_gjTeQ4"
   },
   "outputs": [],
   "source": [
    "from sklearn.feature_selection import SelectKBest\n",
    "\n",
    "# selecting features with greater than 0.25 mutual information scores\n",
    "X_train_1 = X_train.copy()\n",
    "X_valid_1 = X_valid.copy()\n",
    "feature_count_1 = mutual_info[mutual_info > 0.005].count()\n",
    "sel_five_cols = SelectKBest(mutual_info_classif, k=feature_count_1)\n",
    "sel_five_cols.fit(X_train_1, Y_train_1)\n",
    "new_columns_1 = X_train_1.columns[sel_five_cols.get_support()]\n"
   ]
  },
  {
   "cell_type": "code",
   "execution_count": null,
   "metadata": {
    "id": "nsngnuR-gFBn"
   },
   "outputs": [],
   "source": [
    "print(f'{feature_count_1} features selected out of {len(X_train.columns)}')"
   ]
  },
  {
   "cell_type": "code",
   "execution_count": null,
   "metadata": {
    "id": "ImDGMN7Igq6l"
   },
   "outputs": [],
   "source": [
    "X_train_1 = X_train_1[new_columns_1]\n",
    "X_valid_1 = X_valid_1[new_columns_1]\n",
    "X_train_1.shape, X_valid_1.shape"
   ]
  },
  {
   "cell_type": "markdown",
   "metadata": {
    "id": "_mXA_U_StGK_"
   },
   "source": [
    "Support Vector Machine"
   ]
  },
  {
   "cell_type": "code",
   "execution_count": null,
   "metadata": {
    "id": "8EWPWo1hhBgZ"
   },
   "outputs": [],
   "source": [
    "from sklearn.pipeline import make_pipeline\n",
    "from sklearn.preprocessing import StandardScaler\n",
    "from sklearn.svm import SVC\n",
    "from sklearn.metrics import accuracy_score\n",
    "from sklearn.model_selection import GridSearchCV\n"
   ]
  },
  {
   "cell_type": "code",
   "execution_count": null,
   "metadata": {
    "id": "iwkYIM4Pb3lH"
   },
   "outputs": [],
   "source": [
    "svm_1 = SVC()\n",
    "param_grid = {'kernel': ('linear', 'poly', 'rbf')}\n",
    "gs = GridSearchCV(svm_1, param_grid, cv=5)\n",
    "gs.fit(X_train_1, Y_train_1)"
   ]
  },
  {
   "cell_type": "code",
   "execution_count": null,
   "metadata": {
    "id": "tYWUsQkmdbZ6"
   },
   "outputs": [],
   "source": [
    "def print_results(results, best_params) :\n",
    "  for i in range(len(results)):\n",
    "    print(f\"Iteration: {results['params']} mean accuracy score: {results['mean_test_score']}\")\n",
    "  print(f\"Best iteration {best_params}\")\n"
   ]
  },
  {
   "cell_type": "code",
   "execution_count": null,
   "metadata": {
    "id": "dG03xoqlb3lH"
   },
   "outputs": [],
   "source": [
    "print_results(gs.cv_results_, gs.best_params_)\n",
    "best_svm_1 = gs.best_estimator_"
   ]
  },
  {
   "cell_type": "markdown",
   "metadata": {
    "id": "R5UoV7DwtL6X"
   },
   "source": [
    "K Nearest Neighbour"
   ]
  },
  {
   "cell_type": "code",
   "execution_count": null,
   "metadata": {
    "id": "048DypjqsdeI"
   },
   "outputs": [],
   "source": [
    "from sklearn.model_selection import GridSearchCV\n",
    "from sklearn.neighbors import KNeighborsClassifier\n",
    "\n",
    "knn_clf = KNeighborsClassifier()\n",
    "\n",
    "param_grid = {'n_neighbors': list(range(1,11))}\n",
    "gs = GridSearchCV(knn_clf, param_grid, cv=5)\n",
    "gs.fit(X_train_1, Y_train_1)"
   ]
  },
  {
   "cell_type": "code",
   "execution_count": null,
   "metadata": {
    "id": "y9aYVIe7sxUp"
   },
   "outputs": [],
   "source": [
    "\n",
    "print_results(gs.cv_results_, gs.best_params_)\n",
    "best_knn_1 = gs.best_estimator_\n"
   ]
  },
  {
   "cell_type": "markdown",
   "metadata": {
    "id": "kxgieLUOAkP8"
   },
   "source": [
    "Random forest"
   ]
  },
  {
   "cell_type": "code",
   "execution_count": null,
   "metadata": {
    "id": "JwGS0Gs8AjuM"
   },
   "outputs": [],
   "source": [
    "from sklearn.ensemble import RandomForestClassifier\n",
    "from sklearn.datasets import make_classification\n",
    "\n",
    "rf_1 = RandomForestClassifier()\n",
    "param_grid = {'n_estimators': [100,200,300],'criterion':(\"gini\", \"entropy\", \"log_loss\")}\n",
    "gs = GridSearchCV(rf_1, param_grid, cv=5)\n",
    "gs.fit(X_train_1, Y_train_1)"
   ]
  },
  {
   "cell_type": "code",
   "execution_count": null,
   "metadata": {
    "id": "QghDnt-bVbZl"
   },
   "outputs": [],
   "source": [
    "print_results(gs.cv_results_, gs.best_params_)\n",
    "best_rf_1 = gs.best_estimator_"
   ]
  },
  {
   "cell_type": "markdown",
   "metadata": {
    "id": "2OcOEOX3YpNn"
   },
   "source": [
    "### PCA for dimension reduction"
   ]
  },
  {
   "cell_type": "code",
   "execution_count": null,
   "metadata": {
    "id": "FID4hDHfZe4u"
   },
   "outputs": [],
   "source": [
    "Y_train_1 = Y_train['label_1']\n",
    "Y_valid_1 = Y_valid['label_1']"
   ]
  },
  {
   "cell_type": "code",
   "execution_count": null,
   "metadata": {
    "id": "szPHOLF8YyzW"
   },
   "outputs": [],
   "source": [
    "from sklearn.decomposition import PCA\n",
    "\n",
    "pca = PCA(n_components=400)\n",
    "X_train_1 = pca.fit_transform(X_train.copy())\n",
    "X_valid_1 = pca.transform(X_valid.copy())"
   ]
  },
  {
   "cell_type": "code",
   "execution_count": null,
   "metadata": {
    "id": "zQcTF2dAaNg0"
   },
   "outputs": [],
   "source": [
    "svc_1 = SVC(kernel='poly', degree=3, C=1).fit(X_train_1, Y_train_1)\n",
    "svc_pred = svc_1.predict(X_valid_1)\n",
    "svc_accuracy = accuracy_score(Y_valid_1, svc_pred)\n",
    "print('Accuracy score when using support vector machine: ', \"%.2f\" % (svc_accuracy*100))"
   ]
  },
  {
   "cell_type": "markdown",
   "metadata": {
    "id": "0Yl3Bmc2qSun"
   },
   "source": [
    "### Label 2 : Age"
   ]
  },
  {
   "cell_type": "code",
   "execution_count": null,
   "metadata": {
    "id": "Qyt43HsYqd7r"
   },
   "outputs": [],
   "source": [
    "Y_train_2 = Y_train['label_2']\n",
    "Y_valid_2 = Y_valid['label_2']\n"
   ]
  },
  {
   "cell_type": "code",
   "execution_count": null,
   "metadata": {
    "id": "2PVn2joYrSaO"
   },
   "outputs": [],
   "source": [
    "print(Y_train_2.sort_values())"
   ]
  },
  {
   "cell_type": "code",
   "execution_count": null,
   "metadata": {
    "id": "sH3-WIpVraGU"
   },
   "outputs": [],
   "source": [
    "Y_train_2.head()\n",
    "plt.figure(figsize=(20,10))\n",
    "Y_train_2.value_counts().plot(kind='bar')"
   ]
  },
  {
   "cell_type": "code",
   "execution_count": null,
   "metadata": {
    "id": "A6IPmfBsrwfO"
   },
   "outputs": [],
   "source": [
    "from sklearn.feature_selection import mutual_info_classif\n",
    "mutual_info = mutual_info_classif(X_train, Y_train_2)\n",
    "mutual_info = pd.Series(mutual_info)\n",
    "mutual_info.index = X_train.columns\n",
    "mutual_info.sort_values(ascending=False).plot.bar(figsize=(20, 8))"
   ]
  },
  {
   "cell_type": "code",
   "execution_count": null,
   "metadata": {
    "id": "_GFUZwDgsFdJ"
   },
   "outputs": [],
   "source": [
    "from sklearn.feature_selection import SelectKBest\n",
    "\n",
    "# selecting features with greater than 0.25 mutual information scores\n",
    "X_train_2 = X_train.copy()\n",
    "X_valid_2 = X_valid.copy()\n",
    "feature_count_2 = mutual_info[mutual_info > 0.01].count()\n",
    "sel_five_cols = SelectKBest(mutual_info_classif, k=feature_count_2)\n",
    "sel_five_cols.fit(X_train_2, Y_train_2)\n",
    "new_columns_2 = X_train_2.columns[sel_five_cols.get_support()]"
   ]
  },
  {
   "cell_type": "code",
   "execution_count": null,
   "metadata": {
    "id": "JwCCW0_es_ik"
   },
   "outputs": [],
   "source": [
    "print(f'{feature_count_2} features selected out of {len(X_train.columns)}')"
   ]
  },
  {
   "cell_type": "code",
   "execution_count": null,
   "metadata": {
    "id": "RLYG8xE6tDVW"
   },
   "outputs": [],
   "source": [
    "X_train_2 = X_train_2[new_columns_2]\n",
    "X_valid_2 = X_valid_2[new_columns_2]\n",
    "X_train_2.shape, X_valid_2.shape"
   ]
  },
  {
   "cell_type": "markdown",
   "metadata": {
    "id": "GhfgGg1utOL4"
   },
   "source": [
    "Support Vector Machine"
   ]
  },
  {
   "cell_type": "code",
   "execution_count": null,
   "metadata": {
    "id": "y2MveU3nYKXT"
   },
   "outputs": [],
   "source": [
    "svm_2 = SVC()\n",
    "param_grid = {'kernel': ('linear', 'poly', 'rbf')}\n",
    "gs = GridSearchCV(svm_2, param_grid, cv=5)\n",
    "gs.fit(X_train_2, Y_train_2)"
   ]
  },
  {
   "cell_type": "code",
   "execution_count": null,
   "metadata": {
    "id": "zjTILai5Y2NS"
   },
   "outputs": [],
   "source": [
    "print_results(gs.cv_results_, gs.best_params_)\n",
    "best_svm_2 = gs.best_estimator_"
   ]
  },
  {
   "cell_type": "markdown",
   "metadata": {
    "id": "JuO2iMfLfLpd"
   },
   "source": [
    "KNN"
   ]
  },
  {
   "cell_type": "code",
   "execution_count": null,
   "metadata": {
    "id": "Qm2QQXP1tVzu"
   },
   "outputs": [],
   "source": [
    "from sklearn.model_selection import GridSearchCV\n",
    "\n",
    "\n",
    "knn_clf = KNeighborsClassifier()\n",
    "param_grid = {'n_neighbors': list(range(1,11))}\n",
    "gs = GridSearchCV(knn_clf, param_grid, cv=5)\n",
    "gs.fit(X_train_2, Y_train_2)"
   ]
  },
  {
   "cell_type": "code",
   "execution_count": null,
   "metadata": {
    "id": "X-YgFrqrtxym"
   },
   "outputs": [],
   "source": [
    "print_results(gs.cv_results_, gs.best_params_)\n",
    "best_knn_2 = gs.best_estimator_"
   ]
  },
  {
   "cell_type": "markdown",
   "metadata": {
    "id": "DACWLVj4WOR5"
   },
   "source": [
    "Random Forest"
   ]
  },
  {
   "cell_type": "code",
   "execution_count": null,
   "metadata": {
    "id": "HRpY_K_WWQqE"
   },
   "outputs": [],
   "source": [
    "from sklearn.ensemble import RandomForestClassifier\n",
    "from sklearn.datasets import make_classification\n",
    "\n",
    "rf_2 = RandomForestClassifier()\n",
    "param_grid = {'n_estimators': [100, 200, 300],'criterion':(\"gini\", \"entropy\", \"log_loss\")}\n",
    "gs = GridSearchCV(rf_2, param_grid, cv=5)\n",
    "gs.fit(X_train_2, Y_train_2)"
   ]
  },
  {
   "cell_type": "code",
   "execution_count": null,
   "metadata": {
    "id": "JOg9oCR7WxxZ"
   },
   "outputs": [],
   "source": [
    "print_results(gs.cv_results_, gs.best_params_)\n",
    "best_rf_2 = gs.best_estimator_"
   ]
  },
  {
   "cell_type": "markdown",
   "metadata": {
    "id": "KZ8kXWMDgDOs"
   },
   "source": [
    "### Label 3 : Gender"
   ]
  },
  {
   "cell_type": "code",
   "execution_count": null,
   "metadata": {
    "id": "4W05eWQAgBo4"
   },
   "outputs": [],
   "source": [
    "Y_train_3 = Y_train['label_3']\n",
    "Y_valid_3 = Y_valid['label_3']\n"
   ]
  },
  {
   "cell_type": "code",
   "execution_count": null,
   "metadata": {
    "id": "mQKORAU6ANPj"
   },
   "outputs": [],
   "source": [
    "Y_train_3.head()\n",
    "plt.figure(figsize=(20,10))\n",
    "Y_train_3.value_counts().plot(kind='bar')"
   ]
  },
  {
   "cell_type": "code",
   "execution_count": null,
   "metadata": {
    "id": "rYKJWMfHXdlj"
   },
   "outputs": [],
   "source": [
    "from sklearn.feature_selection import mutual_info_classif\n",
    "mutual_info = mutual_info_classif(X_train, Y_train_2)\n",
    "mutual_info = pd.Series(mutual_info)\n",
    "mutual_info.index = X_train.columns\n",
    "mutual_info.sort_values(ascending=False).plot.bar(figsize=(20, 8))"
   ]
  },
  {
   "cell_type": "code",
   "execution_count": null,
   "metadata": {
    "id": "qMBrxkCRXwRx"
   },
   "outputs": [],
   "source": [
    "# selecting features with greater than 0.25 mutual information scores\n",
    "X_train_3 = X_train.copy()\n",
    "X_valid_3 = X_valid.copy()\n",
    "feature_count_3 = mutual_info[mutual_info > 0.01].count()\n",
    "sel_five_cols = SelectKBest(mutual_info_classif, k=feature_count_3)\n",
    "sel_five_cols.fit(X_train_3, Y_train_3)\n",
    "new_columns_3 = X_train_3.columns[sel_five_cols.get_support()]"
   ]
  },
  {
   "cell_type": "code",
   "execution_count": null,
   "metadata": {
    "id": "_-E6xEjzXJ0p"
   },
   "outputs": [],
   "source": [
    "print(f'{feature_count_3} features selected out of {len(X_train.columns)}')"
   ]
  },
  {
   "cell_type": "code",
   "execution_count": null,
   "metadata": {
    "id": "NY2BQL_yYAwt"
   },
   "outputs": [],
   "source": [
    "X_train_3 = X_train_3[new_columns_3]\n",
    "X_valid_3 = X_valid_3[new_columns_3]\n",
    "X_train_3.shape, X_valid_3.shape"
   ]
  },
  {
   "cell_type": "code",
   "execution_count": null,
   "metadata": {
    "id": "__J6K9xJZpGh"
   },
   "outputs": [],
   "source": [
    "svm_3 = SVC()\n",
    "param_grid = {'kernel': ('linear', 'poly', 'rbf')}\n",
    "gs = GridSearchCV(svm_3, param_grid, cv=5)\n",
    "gs.fit(X_train_3, Y_train_3)"
   ]
  },
  {
   "cell_type": "code",
   "execution_count": null,
   "metadata": {
    "id": "NIBvClIgZpGi"
   },
   "outputs": [],
   "source": [
    "print_results(gs.cv_results_, gs.best_params_)\n",
    "best_svm_3 = gs.best_estimator_"
   ]
  },
  {
   "cell_type": "markdown",
   "metadata": {
    "id": "HdCvm82TZpGj"
   },
   "source": [
    "KNN"
   ]
  },
  {
   "cell_type": "code",
   "execution_count": null,
   "metadata": {
    "id": "nDMhcTNaZpGj"
   },
   "outputs": [],
   "source": [
    "from sklearn.model_selection import GridSearchCV\n",
    "\n",
    "\n",
    "knn_3 = KNeighborsClassifier()\n",
    "param_grid = {'n_neighbors': list(range(1,11))}\n",
    "gs = GridSearchCV(knn_3, param_grid, cv=5)\n",
    "gs.fit(X_train_3, Y_train_3)"
   ]
  },
  {
   "cell_type": "code",
   "execution_count": null,
   "metadata": {
    "id": "9Z-vMma7ZpGj"
   },
   "outputs": [],
   "source": [
    "print_results(gs.cv_results_, gs.best_params_)\n",
    "best_knn_3 = gs.best_estimator_"
   ]
  },
  {
   "cell_type": "markdown",
   "metadata": {
    "id": "ZEvmb_cjZpGk"
   },
   "source": [
    "Random Forest"
   ]
  },
  {
   "cell_type": "code",
   "execution_count": null,
   "metadata": {
    "id": "VHGgtjpqZpGk"
   },
   "outputs": [],
   "source": [
    "from sklearn.ensemble import RandomForestClassifier\n",
    "from sklearn.datasets import make_classification\n",
    "\n",
    "rf_3 = RandomForestClassifier()\n",
    "param_grid = {'n_estimators': [100, 200, 300], 'criterion':(\"gini\", \"entropy\", \"log_loss\")}\n",
    "gs = GridSearchCV(rf_3, param_grid, cv=5)\n",
    "gs.fit(X_train_3, Y_train_3)"
   ]
  },
  {
   "cell_type": "code",
   "execution_count": null,
   "metadata": {
    "id": "tjZqiOLnZpGk"
   },
   "outputs": [],
   "source": [
    "print_results(gs.cv_results_, gs.best_params_)\n",
    "best_rf_3 = gs.best_estimator_"
   ]
  },
  {
   "cell_type": "markdown",
   "metadata": {
    "id": "gNUg1L7JaUih"
   },
   "source": [
    "### Label 4 : Accent"
   ]
  },
  {
   "cell_type": "code",
   "execution_count": null,
   "metadata": {
    "id": "FX-nEvXDa-U3"
   },
   "outputs": [],
   "source": [
    "Y_train_4= Y_train['label_4']\n",
    "Y_valid_4 = Y_valid['label_4']\n"
   ]
  },
  {
   "cell_type": "code",
   "execution_count": null,
   "metadata": {
    "id": "LmVNy4pNa-U4"
   },
   "outputs": [],
   "source": [
    "\n",
    "plt.figure(figsize=(20,10))\n",
    "Y_train_4.value_counts().plot(kind='bar')"
   ]
  },
  {
   "cell_type": "code",
   "execution_count": null,
   "metadata": {
    "id": "7R7bvUp5jwxQ"
   },
   "outputs": [],
   "source": [
    "from imblearn.over_sampling import SMOTE\n",
    "\n",
    "X_train_4 = X_train.copy()\n",
    "X_valid_4 = X_valid.copy()"
   ]
  },
  {
   "cell_type": "code",
   "execution_count": null,
   "metadata": {
    "id": "8CJ4UKZVilj6"
   },
   "outputs": [],
   "source": [
    "smote = SMOTE(sampling_strategy='auto', random_state=42)\n",
    "X_train_4, Y_train_4 = smote.fit_resample(X_train_4, Y_train_4)"
   ]
  },
  {
   "cell_type": "code",
   "execution_count": null,
   "metadata": {
    "id": "RNqiAVmSkJTh"
   },
   "outputs": [],
   "source": [
    "\n",
    "plt.figure(figsize=(20,10))\n",
    "Y_train_4.value_counts().plot(kind='bar')"
   ]
  },
  {
   "cell_type": "code",
   "execution_count": null,
   "metadata": {
    "id": "ja26d7RMa-U5"
   },
   "outputs": [],
   "source": [
    "svm_4 = SVC()\n",
    "param_grid = {'kernal': ('linear', 'poly', 'rbf')}\n",
    "gs = GridSearchCV(svm_4, param_grid, cv=5)\n",
    "gs.fit(X_train_4, Y_train_4)"
   ]
  },
  {
   "cell_type": "code",
   "execution_count": null,
   "metadata": {
    "id": "QaWi9BvLa-U6"
   },
   "outputs": [],
   "source": [
    "print_results(gs.cv_results_, gs.best_params_)\n",
    "best_svm_4 = gs.best_estimator_"
   ]
  },
  {
   "cell_type": "markdown",
   "metadata": {
    "id": "ODQXWPJga-U7"
   },
   "source": [
    "KNN"
   ]
  },
  {
   "cell_type": "code",
   "execution_count": null,
   "metadata": {
    "id": "pMBWkktca-U7"
   },
   "outputs": [],
   "source": [
    "from sklearn.model_selection import GridSearchCV\n",
    "\n",
    "\n",
    "knn_4 = KNeighborsClassifier()\n",
    "param_grid = {'n_neighbors': list(range(1,11))}\n",
    "gs = GridSearchCV(knn_4, param_grid, cv=5)\n",
    "gs.fit(X_train_4, Y_train_4)"
   ]
  },
  {
   "cell_type": "code",
   "execution_count": null,
   "metadata": {
    "id": "Huw0FM2ya-U7"
   },
   "outputs": [],
   "source": [
    "print_results(gs.cv_results_, gs.best_params_)\n",
    "best_knn_4 = gs.best_estimator_"
   ]
  },
  {
   "cell_type": "markdown",
   "metadata": {
    "id": "TsXLhMUwa-U7"
   },
   "source": [
    "Random Forest"
   ]
  },
  {
   "cell_type": "code",
   "execution_count": null,
   "metadata": {
    "id": "G1aexVSla-U7"
   },
   "outputs": [],
   "source": [
    "from sklearn.ensemble import RandomForestClassifier\n",
    "from sklearn.datasets import make_classification\n",
    "\n",
    "rf_4 = RandomForestClassifier()\n",
    "param_grid = {'n_estimators': [100, 200, 300],'criterion':(\"gini\", \"entropy\", \"log_loss\")}\n",
    "gs = GridSearchCV(rf_4, param_grid, cv=5)\n",
    "gs.fit(X_train_4, Y_train_4)"
   ]
  },
  {
   "cell_type": "code",
   "execution_count": null,
   "metadata": {
    "id": "9GKt0C2Da-U8"
   },
   "outputs": [],
   "source": [
    "print_results(gs.cv_results_, gs.best_params_)\n",
    "best_rf_4 = gs.best_estimator_"
   ]
  }
 ],
 "metadata": {
  "colab": {
   "private_outputs": true,
   "provenance": []
  },
  "kernelspec": {
   "display_name": "Python 3 (ipykernel)",
   "language": "python",
   "name": "python3"
  },
  "language_info": {
   "codemirror_mode": {
    "name": "ipython",
    "version": 3
   },
   "file_extension": ".py",
   "mimetype": "text/x-python",
   "name": "python",
   "nbconvert_exporter": "python",
   "pygments_lexer": "ipython3",
   "version": "3.11.4"
  }
 },
 "nbformat": 4,
 "nbformat_minor": 1
}
